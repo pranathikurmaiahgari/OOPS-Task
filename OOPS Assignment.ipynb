{
 "cells": [
  {
   "cell_type": "markdown",
   "id": "5c1b9ce1-1b4b-408f-b36b-8c164ec6e207",
   "metadata": {},
   "source": [
    "Q1, Create a vehicle class with an init method having instance variables as name_of_vehicle, max_speed\n",
    "and average_of_vehicle."
   ]
  },
  {
   "cell_type": "code",
   "execution_count": 17,
   "id": "382be37d-5722-4935-9bbf-72c2e694a30c",
   "metadata": {},
   "outputs": [],
   "source": [
    "class vehicle:\n",
    "    def __init__(self,name_of_vehicle,max_speed,average_of_vehicle):\n",
    "        self.name_of_vehicle=name_of_vehicle\n",
    "        self.max_speed=max_speed\n",
    "        self.average_of_vehicle=average_of_vehicle\n",
    "    def vehicle_method(self):\n",
    "        return self.name_of_vehicle,self.max_speed,self.average_of_vehicle"
   ]
  },
  {
   "cell_type": "code",
   "execution_count": 18,
   "id": "224f36bc-5ef6-4f14-a8a8-c02031add8ad",
   "metadata": {},
   "outputs": [],
   "source": [
    "vehicle_obj=vehicle(\"Ferrari SF90\",340,100)"
   ]
  },
  {
   "cell_type": "code",
   "execution_count": 19,
   "id": "2c78debe-2680-4520-9175-703c0ed51d5f",
   "metadata": {},
   "outputs": [
    {
     "data": {
      "text/plain": [
       "('Ferrari SF90', 340, 100)"
      ]
     },
     "execution_count": 19,
     "metadata": {},
     "output_type": "execute_result"
    }
   ],
   "source": [
    "vehicle_obj.vehicle_method()"
   ]
  },
  {
   "cell_type": "markdown",
   "id": "08b301e0-47d1-44a9-8b3d-83c3c5dae4ca",
   "metadata": {},
   "source": [
    "Q2. Create a child class car from the vehicle class created in Que 1, which will inherit the vehicle class.\n",
    "Create a method named seating_capacity which takes capacity as an argument and returns the name of\n",
    "the vehicle and its seating capacity."
   ]
  },
  {
   "cell_type": "code",
   "execution_count": 31,
   "id": "31226901-769d-4d9b-af6f-ba38a978779d",
   "metadata": {},
   "outputs": [],
   "source": [
    "class vehicle:\n",
    "    def __init__(self,name_of_vehicle,max_speed,average_of_vehicle):\n",
    "        self.name_of_vehicle=name_of_vehicle\n",
    "        self.max_speed=max_speed\n",
    "        self.average_of_vehicle=average_of_vehicle\n",
    "    def vehicle_method(self):\n",
    "        return self.name_of_vehicle,self.max_speed,self.average_of_vehicle\n",
    "class car(vehicle):\n",
    "    def seating_capacity(self,capacity):\n",
    "        return self.name_of_vehicle,capacity"
   ]
  },
  {
   "cell_type": "code",
   "execution_count": 32,
   "id": "f45d2fe3-80c8-467c-a983-7ea61049eb58",
   "metadata": {},
   "outputs": [],
   "source": [
    "car_obj=car(\"Ferrari SF90\",340,100)"
   ]
  },
  {
   "cell_type": "code",
   "execution_count": 33,
   "id": "c058fa74-fb07-40be-b766-9a0c5000b486",
   "metadata": {},
   "outputs": [
    {
     "data": {
      "text/plain": [
       "('Ferrari SF90', 2)"
      ]
     },
     "execution_count": 33,
     "metadata": {},
     "output_type": "execute_result"
    }
   ],
   "source": [
    "car_obj.seating_capacity(2)"
   ]
  },
  {
   "cell_type": "markdown",
   "id": "72440400-8af1-4c71-bf81-ff5c371f7f37",
   "metadata": {},
   "source": [
    "Q3. What is multiple inheritance? Write a python code to demonstrate multiple inheritance."
   ]
  },
  {
   "cell_type": "markdown",
   "id": "5a3d7c9b-7beb-4365-bee1-c82844ecaa07",
   "metadata": {},
   "source": [
    "Multiple inheritance is a type of inheritance in which two or more child classes will be derived from a single parent class"
   ]
  },
  {
   "cell_type": "code",
   "execution_count": 35,
   "id": "d052fe5c-ce0e-40fc-aa64-2cf12a84c6c4",
   "metadata": {},
   "outputs": [],
   "source": [
    "class vehicle:\n",
    "    def __init__(self,name_of_vehicle,max_speed,average_of_vehicle):\n",
    "        self.name_of_vehicle=name_of_vehicle\n",
    "        self.max_speed=max_speed\n",
    "        self.average_of_vehicle=average_of_vehicle\n",
    "    def vehicle_method(self):\n",
    "        return self.name_of_vehicle,self.max_speed,self.average_of_vehicle\n",
    "class car(vehicle):\n",
    "    def seating_capacity(self,capacity):\n",
    "        return self.name_of_vehicle,capacity\n",
    "class jeep(vehicle):\n",
    "    def seating_capacity(self,capacity):\n",
    "        return self.name_of_vehicle,capacity"
   ]
  },
  {
   "cell_type": "code",
   "execution_count": 36,
   "id": "d16c5672-062b-49be-8b75-772f89198b19",
   "metadata": {},
   "outputs": [],
   "source": [
    "car_obj=car(\"Ferrari SF90\",340,100)"
   ]
  },
  {
   "cell_type": "code",
   "execution_count": 37,
   "id": "bdf2bead-93c9-4b17-bc84-4a409cb7cdf7",
   "metadata": {},
   "outputs": [
    {
     "data": {
      "text/plain": [
       "('Ferrari SF90', 2)"
      ]
     },
     "execution_count": 37,
     "metadata": {},
     "output_type": "execute_result"
    }
   ],
   "source": [
    "car_obj.seating_capacity(2)"
   ]
  },
  {
   "cell_type": "code",
   "execution_count": 40,
   "id": "bacb0532-c1b6-4e82-9c46-de5f496cc679",
   "metadata": {},
   "outputs": [],
   "source": [
    "jeep_obj=jeep(\"Thar LX 4-Str Hard Top\",15.2,100)"
   ]
  },
  {
   "cell_type": "code",
   "execution_count": 41,
   "id": "7fff0899-05cd-41eb-b51a-e9fa5d52de42",
   "metadata": {},
   "outputs": [
    {
     "data": {
      "text/plain": [
       "('Thar LX 4-Str Hard Top', 4)"
      ]
     },
     "execution_count": 41,
     "metadata": {},
     "output_type": "execute_result"
    }
   ],
   "source": [
    "jeep_obj.seating_capacity(4)"
   ]
  },
  {
   "cell_type": "markdown",
   "id": "96003ec8-ca3e-4f52-aacd-f08f95d088b5",
   "metadata": {},
   "source": [
    "Q4. What are getter and setter in python? Create a class and create a getter and a setter method in this\n",
    "class."
   ]
  },
  {
   "cell_type": "markdown",
   "id": "fb8ca338-def0-49ca-b999-957f4fea436d",
   "metadata": {},
   "source": [
    "Getter and setter are types of decorators which are used to access protected and private members"
   ]
  },
  {
   "cell_type": "code",
   "execution_count": 55,
   "id": "440ca3d7-4468-4f3d-ba8a-4952e557e3df",
   "metadata": {},
   "outputs": [],
   "source": [
    "class personal_info:\n",
    "    def __init__(self,name,phone_number):\n",
    "        self.name=name\n",
    "        self.__phone_number=phone_number\n",
    "    @property\n",
    "    def phone_number_access(self):\n",
    "        return self._personal_info__phone_number\n",
    "    @phone_number_access.setter\n",
    "    def modify_phone_number(self,mobile):\n",
    "        self.__phone_number=mobile"
   ]
  },
  {
   "cell_type": "code",
   "execution_count": 56,
   "id": "f3aee99d-34b5-4af7-81dc-962236a2b516",
   "metadata": {},
   "outputs": [],
   "source": [
    "login_obj=personal_info(\"pranathi\",214254576573)"
   ]
  },
  {
   "cell_type": "code",
   "execution_count": 57,
   "id": "0acda9bb-5313-442d-9c7d-5396ee41eebf",
   "metadata": {},
   "outputs": [
    {
     "data": {
      "text/plain": [
       "214254576573"
      ]
     },
     "execution_count": 57,
     "metadata": {},
     "output_type": "execute_result"
    }
   ],
   "source": [
    "login_obj.phone_number_access"
   ]
  },
  {
   "cell_type": "code",
   "execution_count": 60,
   "id": "45c4641d-b781-4b08-9e7e-080d526d9dfd",
   "metadata": {},
   "outputs": [],
   "source": [
    "login_obj.modify_phone_number=2436457583568"
   ]
  },
  {
   "cell_type": "code",
   "execution_count": 61,
   "id": "606b2105-15e3-4f39-a870-64b98a161cd7",
   "metadata": {},
   "outputs": [
    {
     "data": {
      "text/plain": [
       "2436457583568"
      ]
     },
     "execution_count": 61,
     "metadata": {},
     "output_type": "execute_result"
    }
   ],
   "source": [
    "login_obj.phone_number_access"
   ]
  },
  {
   "cell_type": "markdown",
   "id": "af36fe87-217e-429c-9a39-204f71aa0c6d",
   "metadata": {},
   "source": [
    "Q5.What is method overriding in python? Write a python code to demonstrate method overriding."
   ]
  },
  {
   "cell_type": "markdown",
   "id": "83e93a07-3932-4a61-9296-87a1727b9716",
   "metadata": {},
   "source": [
    "Method overriding is a type of polymorphism which overrides a method in parent class with same name and parameters from the child class"
   ]
  },
  {
   "cell_type": "code",
   "execution_count": 81,
   "id": "376d79d5-c889-4a7f-ab71-e6e4cfb9d349",
   "metadata": {},
   "outputs": [],
   "source": [
    "class course:\n",
    "    data1=\"masters\"\n",
    "    def course_details(self,course_name):\n",
    "        return course_name\n",
    "    def course_price(self,course_price):\n",
    "        return course_price"
   ]
  },
  {
   "cell_type": "code",
   "execution_count": 82,
   "id": "8158e0dc-4872-4253-af24-5bf8acdf3499",
   "metadata": {},
   "outputs": [],
   "source": [
    "class study(course):\n",
    "    data2=\"masters2.0\"\n",
    "    def course_details(self,course_name):\n",
    "        return course_name"
   ]
  },
  {
   "cell_type": "code",
   "execution_count": 83,
   "id": "df8efc7b-da8e-4e96-b5b6-166bcb3eeb9d",
   "metadata": {},
   "outputs": [],
   "source": [
    "obj=study()"
   ]
  },
  {
   "cell_type": "code",
   "execution_count": 84,
   "id": "9d9ffe3a-882a-4105-8981-2c42c961025a",
   "metadata": {},
   "outputs": [
    {
     "data": {
      "text/plain": [
       "'data science'"
      ]
     },
     "execution_count": 84,
     "metadata": {},
     "output_type": "execute_result"
    }
   ],
   "source": [
    "obj.course_details(\"data science\")"
   ]
  },
  {
   "cell_type": "code",
   "execution_count": 85,
   "id": "4b6f1aa1-cca8-45d0-aee0-cb3df6dd0fce",
   "metadata": {},
   "outputs": [
    {
     "data": {
      "text/plain": [
       "3500"
      ]
     },
     "execution_count": 85,
     "metadata": {},
     "output_type": "execute_result"
    }
   ],
   "source": [
    "obj.course_price(3500)"
   ]
  },
  {
   "cell_type": "code",
   "execution_count": 86,
   "id": "183cb794-93f9-4ca3-92e6-89b4f579b18a",
   "metadata": {},
   "outputs": [
    {
     "data": {
      "text/plain": [
       "'masters'"
      ]
     },
     "execution_count": 86,
     "metadata": {},
     "output_type": "execute_result"
    }
   ],
   "source": [
    "obj.data1"
   ]
  },
  {
   "cell_type": "code",
   "execution_count": 88,
   "id": "6d8a1d84-921f-47bb-ac5f-fb18b1df771f",
   "metadata": {},
   "outputs": [],
   "source": [
    "#overriding\n",
    "obj.data1=\"new\""
   ]
  },
  {
   "cell_type": "code",
   "execution_count": 89,
   "id": "baba59d4-e39f-4a09-90f4-aab95412feb2",
   "metadata": {},
   "outputs": [
    {
     "data": {
      "text/plain": [
       "'new'"
      ]
     },
     "execution_count": 89,
     "metadata": {},
     "output_type": "execute_result"
    }
   ],
   "source": [
    "obj.data1"
   ]
  },
  {
   "cell_type": "code",
   "execution_count": null,
   "id": "a5bb9257-1cee-4d28-9625-d1276387ba71",
   "metadata": {},
   "outputs": [],
   "source": []
  }
 ],
 "metadata": {
  "kernelspec": {
   "display_name": "Python 3 (ipykernel)",
   "language": "python",
   "name": "python3"
  },
  "language_info": {
   "codemirror_mode": {
    "name": "ipython",
    "version": 3
   },
   "file_extension": ".py",
   "mimetype": "text/x-python",
   "name": "python",
   "nbconvert_exporter": "python",
   "pygments_lexer": "ipython3",
   "version": "3.10.8"
  }
 },
 "nbformat": 4,
 "nbformat_minor": 5
}
